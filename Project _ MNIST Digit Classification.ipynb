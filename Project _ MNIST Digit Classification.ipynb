{
 "cells": [
  {
   "cell_type": "markdown",
   "metadata": {},
   "source": [
    "# Machine Learning Project (By: Kaustuv Mishra)\n",
    "## Project : MNIST Digit Classification "
   ]
  },
  {
   "cell_type": "markdown",
   "metadata": {},
   "source": [
    "The goal of this project is to discover the MNIST handwritten digit recognition problem. \n",
    "It will also develop a deep learning model in Python using the Keras library that will achieve excellent results. \n",
    "Here are some questions that come to mind:\n",
    "    \n",
    "--> How does deep learning work? \n",
    "\n",
    "--> Artificial neural networks are a subfield of deep learning that applies algorithms inspired by the brain's structure and function.\n",
    "\n",
    "--> What is the purpose of using Keras?\n",
    "\n",
    "Keras is one of the most popular neural network frameworks available today.\n",
    "In my opinion, it has the following advantages:\n",
    "    \n",
    "   - Simplicity (the code itself is excellent)\n",
    "\n",
    "   - Exceptional community - Comprehensive documentation, extensive community code, popular among Kagglers, so you can get access to some really insightful Keras-based data science code.\n",
    "    \n",
    "   - Very active development.\n",
    "\n",
    "--> What is the MNIST handwritten digit recognition problem?\n",
    "- For evaluating machine learning models on handwritten digit classification, Yann LeCun, Corinna Cortes, and Christopher Burges developed the MNIST dataset. \n",
    "\n",
    "- Several documents were compiled from the National Institute of Standards and Technology (NIST).\n",
    "\n",
    "- As a result, the dataset is called the Modified NIST or MNIST dataset. \n",
    "\n",
    "- Several scanned documents were used to create images of digits, which were normalized in size and centered.\n",
    "\n",
    "- This makes it an ideal dataset for assessing models, allowing the developer to concentrate on machine learning with minimal data cleaning or preparation.\n",
    "\n",
    "- We'll walk you through creating a hand-written digit classifier using the MNIST dataset in this project. \n",
    "\n",
    "- This project could be compared to the \"Hello World\" scenario for someone who is new to deep learning.\n",
    "\n",
    "- It comprises of 70,000 annotated 28x28 pixel handwritten digit images in grayscale.\n",
    "\n",
    "- A total of 60,000 training photos and 10,000 test images make up the dataset. \n",
    "\n",
    "- There are ten distinct classes (one for each of the 10 digits).\n",
    "\n",
    "- The current task involves training a model with the 60,000 training images and thereafter analyzing its classification accuracy using the 10,000 test images.\n",
    "\n",
    "\n",
    "## Let's Get Started! (~_^)\n",
    "Let's begin by importing Numpy and providing the computer's pseudorandom number generator with a seed. \n",
    "\n",
    "This enables us to replicate our script's results:"
   ]
  },
  {
   "cell_type": "code",
   "execution_count": 1,
   "metadata": {},
   "outputs": [],
   "source": [
    "# importing numpy\n",
    "import numpy as np\n",
    "np.random.seed(20)  # for replicability"
   ]
  },
  {
   "cell_type": "markdown",
   "metadata": {},
   "source": [
    "## Exploring the Data\n",
    "\n",
    "### Load image data from MNIST."
   ]
  },
  {
   "cell_type": "code",
   "execution_count": 2,
   "metadata": {},
   "outputs": [
    {
     "name": "stdout",
     "output_type": "stream",
     "text": [
      "There are 60000 training images.\n",
      "There are 10000 testing images.\n"
     ]
    }
   ],
   "source": [
    "from keras.datasets import mnist\n",
    "(X_train, y_train), (X_test, y_test) = mnist.load_data()\n",
    "\n",
    "# The dataset's total number of training and test photos\n",
    "print('There are %d training images.' % len(X_train))\n",
    "print('There are %d testing images.' % len(X_test))"
   ]
  },
  {
   "cell_type": "markdown",
   "metadata": {},
   "source": [
    "Let's look at some samples from the dataset:"
   ]
  },
  {
   "cell_type": "code",
   "execution_count": 3,
   "metadata": {},
   "outputs": [
    {
     "data": {
      "image/png": "[encoded data removed]",
      "text/plain": [
       "<Figure size 640x480 with 6 Axes>"
      ]
     },
     "metadata": {},
     "output_type": "display_data"
    }
   ],
   "source": [
    "import matplotlib.pyplot as plt\n",
    "\n",
    "# Plotting a few random photos in grayscale and the preset formats.\n",
    "plt.subplot(351)\n",
    "plt.imshow(X_train[57])\n",
    "plt.subplot(352)\n",
    "plt.imshow(X_train[68])\n",
    "plt.subplot(353)\n",
    "plt.imshow(X_train[42])\n",
    "plt.subplot(354)\n",
    "plt.imshow(X_train[24], cmap=plt.get_cmap('gray'))\n",
    "plt.subplot(355)\n",
    "plt.imshow(X_train[18], cmap=plt.get_cmap('gray'))\n",
    "plt.subplot(356)\n",
    "plt.imshow(X_train[30], cmap=plt.get_cmap('gray'))\n",
    "\n",
    "# displaying the plot\n",
    "plt.show()"
   ]
  },
  {
   "cell_type": "markdown",
   "metadata": {},
   "source": [
    "In order to determine whether or not the input photos from the dataset need to be preprocessed before being given as input to the neural networks, we also need to look at their dimensions."
   ]
  },
  {
   "cell_type": "code",
   "execution_count": 4,
   "metadata": {},
   "outputs": [
    {
     "name": "stdout",
     "output_type": "stream",
     "text": [
      "Shape of the training dataset:\n",
      "(60000, 28, 28)\n",
      "Shape of the testing dataset:\n",
      "(10000, 28, 28)\n"
     ]
    }
   ],
   "source": [
    "# printing the shape of training dataset\n",
    "print ('Shape of the training dataset:') \n",
    "print (X_train.shape)\n",
    "\n",
    "# printing the shape of testing dataset\n",
    "print ('Shape of the testing dataset:')\n",
    "print (X_test.shape)"
   ]
  },
  {
   "cell_type": "markdown",
   "metadata": {},
   "source": [
    "## **Data Preprocessing**\n",
    "\n",
    "### Reshaping Dimesions\n",
    "Our next step is to prepare the inputs for Keras. Our input is organised as a three-dimensional array in the form of (60000, 28, 28), which denotes that the photos in the dataset are 28x28 in height and depth. However, keras requires a 4d array for input. The depth of the image requires that we add a dimension. MNIST images only have a depth of 1, while a full-color image with all three RGB channels will have three. By simply utilising the **reshape()** method on the NumPy array, we can easily add this dimension."
   ]
  },
  {
   "cell_type": "code",
   "execution_count": 5,
   "metadata": {},
   "outputs": [
    {
     "name": "stdout",
     "output_type": "stream",
     "text": [
      "Dimensions after reshaping:\n",
      "(60000, 1, 28, 28)\n"
     ]
    }
   ],
   "source": [
    "# Reshaping the input data \n",
    "X_train = X_train.reshape(X_train.shape[0], 1, 28, 28)\n",
    "X_test = X_test.reshape(X_test.shape[0], 1, 28, 28)\n",
    "\n",
    "# Printing the new dimensions\n",
    "print('Dimensions after reshaping:')\n",
    "print(X_train.shape)"
   ]
  },
  {
   "cell_type": "markdown",
   "metadata": {},
   "source": [
    "### Normalizing the Pixel values\n",
    "Each pixel that makes up a picture that is stored on a computer has a pixel value that specifies its brightness and/or intended colour. The pixel value in binary images is often a 1-bit number that denotes either the foreground or the background. The pixel value for a grayscale image is a single number that denotes the brightness of the pixel. The byte image, which stores this number as an 8-bit integer with a possible range of values from 0 to 255, is the most popular pixel format. Normally, 255 is considered to be white while zero is considered to be black. The many colours of grey are made up of values in between. When utilising neural network models, scaling the input values is usually always a smart idea. We can rapidly normalise the pixel values to the range [0, 1] because the scale is widely understood and well handled. To do this, divide each value by the highest possible value, 255."
   ]
  },
  {
   "cell_type": "code",
   "execution_count": 6,
   "metadata": {},
   "outputs": [],
   "source": [
    "# converting the data type to float64 \n",
    "X_train = X_train.astype('float64')\n",
    "X_test = X_test.astype('float64')\n",
    "\n",
    "# Normalizing pixel values\n",
    "X_train = X_train/255\n",
    "X_test = X_test/255"
   ]
  },
  {
   "cell_type": "markdown",
   "metadata": {},
   "source": [
    "### Preprocessing the class labels for Keras\n",
    "This is a problem of multi-class classification classification. 0 to 9 is the range of integers in the output variable. We need the labels to be in 10 different classes, but right now they are all in one array with 10 classes. We only need to use one hot encoding to solve this. In Keras, there is a built-in assistance method called **np utils.to categorical()**."
   ]
  },
  {
   "cell_type": "code",
   "execution_count": 7,
   "metadata": {},
   "outputs": [],
   "source": [
    "# importing the libraries needed for encoding\n",
    "from keras.utils import np_utils\n",
    "\n",
    "# Encoding the labels\n",
    "Y_train = np_utils.to_categorical(y_train, 10)\n",
    "Y_test = np_utils.to_categorical(y_test, 10)"
   ]
  },
  {
   "cell_type": "markdown",
   "metadata": {},
   "source": [
    "## **Model architecture terminology**\n",
    "A high-level API is offered by the Keras layers module, which makes it simple to build a neural network. It offers techniques for adding activation functions, applying dropout regularisation, and creating dense (completely linked) layers and convolutional layers. This section teaches you how to construct a convolutional neural network model using layers to identify the handwritten digits in the MNIST data set.\n",
    "\n",
    "###  What is CNN?\n",
    "For image classification tasks, convolutional neural networks (CNNs) are the most advanced model architecture currently available. CNNs employ a succession of filters to extract and learn higher-level characteristics from an image's raw pixel data, which the model can subsequently use for categorization. Increasing the depth of the image while reducing its height and depth is our goal as we add more layers. The depth of the image determines how many patterns the model will discover."
   ]
  },
  {
   "cell_type": "code",
   "execution_count": 8,
   "metadata": {},
   "outputs": [
    {
     "name": "stdout",
     "output_type": "stream",
     "text": [
      "Model: \"sequential\"\n",
      "_________________________________________________________________\n",
      " Layer (type)                Output Shape              Param #   \n",
      "=================================================================\n",
      " conv2d (Conv2D)             (None, 32, 26, 26)        320       \n",
      "                                                                 \n",
      " max_pooling2d (MaxPooling2D  (None, 32, 13, 13)       0         \n",
      " )                                                               \n",
      "                                                                 \n",
      " conv2d_1 (Conv2D)           (None, 64, 11, 11)        18496     \n",
      "                                                                 \n",
      " max_pooling2d_1 (MaxPooling  (None, 64, 5, 5)         0         \n",
      " 2D)                                                             \n",
      "                                                                 \n",
      " dropout (Dropout)           (None, 64, 5, 5)          0         \n",
      "                                                                 \n",
      " flatten (Flatten)           (None, 1600)              0         \n",
      "                                                                 \n",
      " dense (Dense)               (None, 128)               204928    \n",
      "                                                                 \n",
      " dropout_1 (Dropout)         (None, 128)               0         \n",
      "                                                                 \n",
      " dense_1 (Dense)             (None, 10)                1290      \n",
      "                                                                 \n",
      "=================================================================\n",
      "Total params: 225,034\n",
      "Trainable params: 225,034\n",
      "Non-trainable params: 0\n",
      "_________________________________________________________________\n"
     ]
    }
   ],
   "source": [
    "# importing necessary libraries for establishing the model architecture\n",
    "from keras.models import Sequential\n",
    "from keras.layers import Dense\n",
    "from keras.layers import Dropout\n",
    "from keras.layers import Flatten\n",
    "from keras.layers.convolutional import Convolution2D\n",
    "from keras.layers.convolutional import MaxPooling2D\n",
    "from sklearn.preprocessing import LabelEncoder,OneHotEncoder\n",
    "from keras import backend as K\n",
    "from subprocess import check_output\n",
    "K.set_image_data_format('channels_first')\n",
    "\n",
    "# Defining the model architecture\n",
    "model = Sequential()\n",
    "model.add(Convolution2D(filters = 32, kernel_size = 3, activation='relu', input_shape=(1,28,28)))\n",
    "model.add(MaxPooling2D(pool_size=(2,2)))\n",
    "model.add(Convolution2D(filters = 64, kernel_size = 3, activation='relu'))\n",
    "model.add(MaxPooling2D(pool_size=(2,2)))\n",
    "model.add(Dropout(0.4))\n",
    "model.add(Flatten())\n",
    "model.add(Dense(128, activation='relu'))\n",
    "model.add(Dropout(0.5))\n",
    "model.add(Dense(10, activation='softmax'))\n",
    "model.summary()"
   ]
  },
  {
   "cell_type": "markdown",
   "metadata": {},
   "source": [
    "## Compiling and Fitting the Model"
   ]
  },
  {
   "cell_type": "code",
   "execution_count": 9,
   "metadata": {},
   "outputs": [
    {
     "name": "stdout",
     "output_type": "stream",
     "text": [
      "Epoch 1/2\n",
      "300/300 [==============================] - 19s 60ms/step - loss: 0.3924 - accuracy: 0.8772\n",
      "Epoch 2/2\n",
      "300/300 [==============================] - 18s 59ms/step - loss: 0.1282 - accuracy: 0.9615\n"
     ]
    },
    {
     "data": {
      "text/plain": [
       "<keras.callbacks.History at 0x1ba864bd700>"
      ]
     },
     "execution_count": 9,
     "metadata": {},
     "output_type": "execute_result"
    }
   ],
   "source": [
    "# Compiling the model\n",
    "model.compile(loss='categorical_crossentropy',optimizer='adam',metrics=['accuracy'])\n",
    "\n",
    "# Fitting the model on training data\n",
    "model.fit(X_train, Y_train, batch_size=200, epochs=2, verbose=1)"
   ]
  },
  {
   "cell_type": "markdown",
   "metadata": {},
   "source": [
    "## Evaluating the model on test data"
   ]
  },
  {
   "cell_type": "code",
   "execution_count": 10,
   "metadata": {},
   "outputs": [
    {
     "name": "stdout",
     "output_type": "stream",
     "text": [
      "The test set's error rate and accuracy are as follows : \n",
      "[0.050385069102048874, 0.9829999804496765]\n",
      "<keras.layers.reshaping.up_sampling2d.UpSampling2D object at 0x000001BAF1072AF0>\n"
     ]
    }
   ],
   "source": [
    "from keras.layers import UpSampling2D\n",
    "\n",
    "\n",
    "# Evaluating the model on test data\n",
    "score = model.evaluate(X_test, Y_test, verbose=0)\n",
    "print (\"The test set's error rate and accuracy are as follows : \")\n",
    "print (score)\n",
    "print(UpSampling2D(size=(2, 2), data_format=None))"
   ]
  }
 ],
 "metadata": {
  "kernelspec": {
   "display_name": "Python 3 (ipykernel)",
   "language": "python",
   "name": "python3"
  },
  "language_info": {
   "codemirror_mode": {
    "name": "ipython",
    "version": 3
   },
   "file_extension": ".py",
   "mimetype": "text/x-python",
   "name": "python",
   "nbconvert_exporter": "python",
   "pygments_lexer": "ipython3",
   "version": "3.9.13"
  }
 },
 "nbformat": 4,
 "nbformat_minor": 2
}
